{
 "cells": [
  {
   "cell_type": "markdown",
   "metadata": {},
   "source": [
    "## Disfigured Data Lab\n",
    "Here are a few scala statements to get you started on this lab"
   ]
  },
  {
   "cell_type": "markdown",
   "metadata": {},
   "source": [
    "### Imports"
   ]
  },
  {
   "cell_type": "code",
   "execution_count": null,
   "metadata": {
    "collapsed": true
   },
   "outputs": [],
   "source": [
    "import java.util.Date"
   ]
  },
  {
   "cell_type": "markdown",
   "metadata": {},
   "source": [
    "### Some Case Classes"
   ]
  },
  {
   "cell_type": "code",
   "execution_count": null,
   "metadata": {
    "collapsed": false
   },
   "outputs": [],
   "source": [
    "case class Email (username: String,\n",
    "mailbox:String, bcclist: Set[String],\n",
    "message_id:String, msgdate: Date,\n",
    "body:String,\n",
    "cclist: Set[String],\n",
    "fromlist: Set[String],\n",
    "subject: String,\n",
    "tolist: Set[String])\n",
    "\n",
    "case class Attachment_summary (username:String,\n",
    "mailbox:String, msgdate:String, message_id:String,\n",
    "filename: String, content_type: String)\n",
    "\n",
    "case class Attachment (username:String,\n",
    "mailbox:String, msgdate:String,\n",
    "message_id:String,\n",
    "filename: String,\n",
    "content_type: String,\n",
    "bytes: Array[Byte])\n"
   ]
  },
  {
   "cell_type": "markdown",
   "metadata": {},
   "source": [
    "### Handy RDDs"
   ]
  },
  {
   "cell_type": "code",
   "execution_count": null,
   "metadata": {
    "collapsed": true
   },
   "outputs": [],
   "source": [
    "var emails = sc.cassandraTable(\"stupormail\",\"email\").select(\"user\",\"mailbox\",\"bcclist\",\"message_id\",\"msgdate\",\"body\",\"cclist\",\"fromlist\",\"subject\",\"tolist\").as(Email)\n",
    "\n",
    "var attachment_summaries = sc.cassandraTable(\"stupormail\",\"attachments\").select(\"user\",\"mailbox\",\"msgdate\",\"message_id\",\n",
    "\"filename\",\"content_type\").as(Attachment_summary)\n",
    "\n",
    "var attachments = sc.cassandraTable(\"stupormail\",\"attachments\").select(\"user\",\"mailbox\",\"msgdate\",\"message_id\",\n",
    "\"filename\",\"content_type\", \"bytes\").as(Attachment)\n"
   ]
  },
  {
   "cell_type": "code",
   "execution_count": null,
   "metadata": {
    "collapsed": false
   },
   "outputs": [],
   "source": [
    "sc.cassandraTable(\"stupormail\",\"email\").first"
   ]
  },
  {
   "cell_type": "code",
   "execution_count": null,
   "metadata": {
    "collapsed": true
   },
   "outputs": [],
   "source": []
  }
 ],
 "metadata": {
  "kernelspec": {
   "display_name": "Spark 1.2.1 (Scala 2.10.4)",
   "language": "scala",
   "name": "spark"
  },
  "language_info": {
   "name": "scala"
  }
 },
 "nbformat": 4,
 "nbformat_minor": 0
}
